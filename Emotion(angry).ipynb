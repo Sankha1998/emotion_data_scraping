{
 "cells": [
  {
   "cell_type": "code",
   "execution_count": 5,
   "metadata": {},
   "outputs": [],
   "source": [
    "from  bs4 import BeautifulSoup as bs\n",
    "from io import StringIO\n",
    "import requests\n",
    "import re\n",
    "import pandas as pd\n",
    "headers = {'User-Agent': 'Mozilla/5.0 (Windows NT 6.1; WOW64) AppleWebKit/537.36 (KHTML, like Gecko) Chrome/56.0.2924.76 Safari/537.36'}"
   ]
  },
  {
   "cell_type": "code",
   "execution_count": 6,
   "metadata": {},
   "outputs": [],
   "source": [
    "url=\"https://123statuslines.com/angry-status-quotes/\" ## sad\n",
    "webpage=requests.get(url, headers= headers).text\n",
    "soup=bs(webpage,'lxml')"
   ]
  },
  {
   "cell_type": "code",
   "execution_count": 7,
   "metadata": {},
   "outputs": [],
   "source": [
    "data=[]\n",
    "for i in soup.find_all('ul',class_=\"statusList\"):\n",
    "    for j in i.find_all('li'):\n",
    "        data.append(j.text)"
   ]
  },
  {
   "cell_type": "code",
   "execution_count": 8,
   "metadata": {},
   "outputs": [],
   "source": [
    "url=\"https://123statuslines.com/negative-status/\" ## sad\n",
    "webpage=requests.get(url, headers= headers).text\n",
    "soup=bs(webpage,'lxml')\n",
    "\n",
    "for i in soup.find_all('ul',class_=\"statusList\"):\n",
    "    for j in i.find_all('li'):\n",
    "        data.append(j.text)"
   ]
  },
  {
   "cell_type": "code",
   "execution_count": 9,
   "metadata": {},
   "outputs": [],
   "source": [
    "url=\"https://123statuslines.com/rude-status/\" ## sad\n",
    "webpage=requests.get(url, headers= headers).text\n",
    "soup=bs(webpage,'lxml')\n",
    "\n",
    "for i in soup.find_all('ul',class_=\"statusList\"):\n",
    "    for j in i.find_all('li'):\n",
    "        data.append(j.text)"
   ]
  },
  {
   "cell_type": "code",
   "execution_count": 10,
   "metadata": {},
   "outputs": [],
   "source": [
    "url=\"https://statusqueen.com/selfish\" ## sad\n",
    "webpage=requests.get(url, headers= headers).text\n",
    "soup=bs(webpage,'lxml')\n",
    "\n",
    "for i in soup.find_all('p', class_='card-description'):\n",
    "    data.append(i.text)"
   ]
  },
  {
   "cell_type": "code",
   "execution_count": 11,
   "metadata": {},
   "outputs": [
    {
     "data": {
      "text/plain": [
       "61"
      ]
     },
     "execution_count": 11,
     "metadata": {},
     "output_type": "execute_result"
    }
   ],
   "source": [
    "len(data)"
   ]
  },
  {
   "cell_type": "code",
   "execution_count": 12,
   "metadata": {},
   "outputs": [],
   "source": [
    "\n",
    "url=\"https://statusqueen.com/attitude\" ## sad\n",
    "webpage=requests.get(url, headers= headers).text\n",
    "soup=bs(webpage,'lxml')\n",
    "\n",
    "for i in soup.find_all('p', class_='card-description'):\n",
    "    data.append(i.text)"
   ]
  },
  {
   "cell_type": "code",
   "execution_count": 13,
   "metadata": {},
   "outputs": [],
   "source": [
    "url=\"https://statusqueen.com/attitude/2\" ## sad\n",
    "webpage=requests.get(url, headers= headers).text\n",
    "soup=bs(webpage,'lxml')\n",
    "\n",
    "for i in soup.find_all('p', class_='card-description'):\n",
    "    data.append(i.text)"
   ]
  },
  {
   "cell_type": "code",
   "execution_count": 14,
   "metadata": {},
   "outputs": [],
   "source": [
    "url=\"https://statusqueen.com/angry\" ## sad\n",
    "webpage=requests.get(url, headers= headers).text\n",
    "soup=bs(webpage,'lxml')\n",
    "\n",
    "for i in soup.find_all('p', class_='card-description'):\n",
    "    data.append(i.text)"
   ]
  },
  {
   "cell_type": "code",
   "execution_count": 15,
   "metadata": {},
   "outputs": [
    {
     "data": {
      "text/plain": [
       "157"
      ]
     },
     "execution_count": 15,
     "metadata": {},
     "output_type": "execute_result"
    }
   ],
   "source": [
    "len(data)"
   ]
  },
  {
   "cell_type": "code",
   "execution_count": 16,
   "metadata": {},
   "outputs": [],
   "source": [
    "url=\"https://www.ienglishstatus.com/angry-whatsapp-status/\" ## sad\n",
    "webpage=requests.get(url, headers= headers).text\n",
    "soup=bs(webpage,'lxml')\n",
    "\n",
    "\n",
    "raw=[]\n",
    "\n",
    "for i in soup.find_all('span', style=\"font-family: verdana, geneva, sans-serif;\"):\n",
    "    raw.append((i.text).strip())\n",
    "    \n",
    "    \n",
    "    \n",
    "new_raw=[]\n",
    "for i in raw:\n",
    "    if i.split(' ')[0]=='Read':\n",
    "        break\n",
    "    else:\n",
    "        new_raw.append(i)\n",
    "\n",
    "import re\n",
    "def clean(text):\n",
    "    \n",
    "    clean = re.compile(r'\\d+')\n",
    "    s = re.sub(clean, '',text)\n",
    "    return s.strip(') ')\n",
    "\n",
    "\n",
    "raw=[]\n",
    "for i in new_raw:\n",
    "    raw.append(clean(i))\n",
    "raw.remove(raw[0])\n",
    "raw.remove(raw[0])\n",
    "\n",
    "\n",
    "for i in raw:\n",
    "    data.append(raw)"
   ]
  },
  {
   "cell_type": "code",
   "execution_count": 17,
   "metadata": {},
   "outputs": [
    {
     "data": {
      "text/plain": [
       "257"
      ]
     },
     "execution_count": 17,
     "metadata": {},
     "output_type": "execute_result"
    }
   ],
   "source": [
    "len(data)"
   ]
  },
  {
   "cell_type": "code",
   "execution_count": 18,
   "metadata": {},
   "outputs": [],
   "source": [
    "url=\"https://www.ienglishstatus.com/attitude-status-for-whatsapp/\" ## sad\n",
    "webpage=requests.get(url, headers= headers).text\n",
    "soup=bs(webpage,'lxml')\n",
    "\n",
    "\n",
    "raw=[]\n",
    "\n",
    "for i in soup.find_all('p'):\n",
    "    raw.append((i.text).strip())\n",
    "    \n",
    "    \n",
    "    \n",
    "new_raw=[]\n",
    "for i in raw:\n",
    "    if i.split(' ')[0]=='Read':\n",
    "        break\n",
    "    else:\n",
    "        new_raw.append(i)\n",
    "        \n",
    "        \n",
    "        \n",
    "import re\n",
    "def clean(text):\n",
    "    \n",
    "    clean = re.compile(r'\\d+')\n",
    "    s = re.sub(clean, '',text)\n",
    "    return s.strip(') ')\n",
    "\n",
    "\n",
    "raw=[]\n",
    "for i in new_raw:\n",
    "    raw.append(clean(i))\n",
    "raw.remove(raw[0])\n",
    "raw.remove(raw[0])\n",
    "\n",
    "\n",
    "for i in raw:\n",
    "    data.append(i)\n"
   ]
  },
  {
   "cell_type": "code",
   "execution_count": 19,
   "metadata": {},
   "outputs": [
    {
     "data": {
      "text/plain": [
       "309"
      ]
     },
     "execution_count": 19,
     "metadata": {},
     "output_type": "execute_result"
    }
   ],
   "source": [
    "len(data)"
   ]
  },
  {
   "cell_type": "code",
   "execution_count": 20,
   "metadata": {},
   "outputs": [],
   "source": [
    "raw=[]\n",
    "url=\"https://www.kadvacorp.com/quotes/angry-status-english-whatsapp-facebook/\" ## sad\n",
    "webpage=requests.get(url, headers= headers).text\n",
    "soup=bs(webpage,'lxml')\n",
    "\n",
    "\n",
    "for i in soup.find_all('p'):\n",
    "    raw.append((i.text).strip('—'))"
   ]
  },
  {
   "cell_type": "code",
   "execution_count": 21,
   "metadata": {},
   "outputs": [],
   "source": [
    "raw.remove(raw[0])"
   ]
  },
  {
   "cell_type": "code",
   "execution_count": 22,
   "metadata": {},
   "outputs": [],
   "source": [
    "for i in raw:\n",
    "    if i == '':\n",
    "        pass\n",
    "    elif i == 'For more angry status msg. continue on Next Page!':\n",
    "        break\n",
    "    else:\n",
    "        data.append(i)"
   ]
  },
  {
   "cell_type": "code",
   "execution_count": 23,
   "metadata": {},
   "outputs": [],
   "source": [
    "raw=[]\n",
    "url=\"https://www.kadvacorp.com/quotes/angry-status-english-whatsapp-facebook/2/\" ## sad\n",
    "webpage=requests.get(url, headers= headers).text\n",
    "soup=bs(webpage,'lxml')\n",
    "\n",
    "\n",
    "for i in soup.find_all('p'):\n",
    "    raw.append((i.text).strip('—'))\n",
    "    \n",
    "    \n",
    "    \n",
    "for i in raw:\n",
    "    if i == '':\n",
    "        pass\n",
    "    elif i == 'A Techno-Guide member of Kadva Corporation. For giving your thought a wing join with me. Be a Mind of man-woman.':\n",
    "        break\n",
    "    else:\n",
    "        data.append(i)"
   ]
  },
  {
   "cell_type": "code",
   "execution_count": 24,
   "metadata": {},
   "outputs": [],
   "source": [
    "raw=[]\n",
    "url=\"https://www.kadvacorp.com/quotes/angry-status-english-whatsapp-facebook/3/\" ## sad\n",
    "webpage=requests.get(url, headers= headers).text\n",
    "soup=bs(webpage,'lxml')\n",
    "\n",
    "\n",
    "for i in soup.find_all('p'):\n",
    "    raw.append((i.text).strip('—'))\n",
    "    \n",
    "    \n",
    "    \n",
    "for i in raw:\n",
    "    if i == '':\n",
    "        pass\n",
    "    elif i == 'A Techno-Guide member of Kadva Corporation. For giving your thought a wing join with me. Be a Mind of man-woman.':\n",
    "        break\n",
    "    else:\n",
    "        data.append(i)"
   ]
  },
  {
   "cell_type": "code",
   "execution_count": 25,
   "metadata": {},
   "outputs": [],
   "source": [
    "raw=[]\n",
    "url=\"https://www.kadvacorp.com/quotes/angry-status-english-whatsapp-facebook/4/\" ## sad\n",
    "webpage=requests.get(url, headers= headers).text\n",
    "soup=bs(webpage,'lxml')\n",
    "\n",
    "\n",
    "for i in soup.find_all('p'):\n",
    "    raw.append((i.text).strip('—'))\n",
    "    \n",
    "    \n",
    "    \n",
    "for i in raw:\n",
    "    if i == '':\n",
    "        pass\n",
    "    elif i == 'A Techno-Guide member of Kadva Corporation. For giving your thought a wing join with me. Be a Mind of man-woman.':\n",
    "        break\n",
    "    else:\n",
    "        data.append(i)"
   ]
  },
  {
   "cell_type": "code",
   "execution_count": 26,
   "metadata": {},
   "outputs": [],
   "source": [
    "raw=[]\n",
    "url=\"https://www.kadvacorp.com/quotes/angry-status-english-whatsapp-facebook/5/\" ## sad\n",
    "webpage=requests.get(url, headers= headers).text\n",
    "soup=bs(webpage,'lxml')\n",
    "\n",
    "\n",
    "for i in soup.find_all('p'):\n",
    "    raw.append((i.text).strip('—'))\n",
    "    \n",
    "    \n",
    "    \n",
    "for i in raw:\n",
    "    if i == '':\n",
    "        pass\n",
    "    elif i == 'A Techno-Guide member of Kadva Corporation. For giving your thought a wing join with me. Be a Mind of man-woman.':\n",
    "        break\n",
    "    else:\n",
    "        data.append(i)"
   ]
  },
  {
   "cell_type": "code",
   "execution_count": 27,
   "metadata": {},
   "outputs": [],
   "source": [
    "raw=[]\n",
    "url=\"https://www.kadvacorp.com/quotes/angry-status-english-whatsapp-facebook/6/\" ## sad\n",
    "webpage=requests.get(url, headers= headers).text\n",
    "soup=bs(webpage,'lxml')\n",
    "\n",
    "\n",
    "for i in soup.find_all('p'):\n",
    "    raw.append((i.text).strip('—'))\n",
    "    \n",
    "    \n",
    "    \n",
    "for i in raw:\n",
    "    if i == '':\n",
    "        pass\n",
    "    elif i == 'Simply just go through the full post to get all very best whatsapp status on angry you can also share all these Angry whatsapp messages as well as Angry Status quotes on Facebook also.':\n",
    "        break\n",
    "    else:\n",
    "        data.append(i)"
   ]
  },
  {
   "cell_type": "code",
   "execution_count": 28,
   "metadata": {},
   "outputs": [
    {
     "data": {
      "text/plain": [
       "438"
      ]
     },
     "execution_count": 28,
     "metadata": {},
     "output_type": "execute_result"
    }
   ],
   "source": [
    "len(data)"
   ]
  },
  {
   "cell_type": "code",
   "execution_count": 29,
   "metadata": {},
   "outputs": [],
   "source": [
    "raw=[]\n",
    "url=\"https://www.lovesove.com/50-latest-angry-whatsapp-status-quotes-images-in-english/\" ## sad\n",
    "webpage=requests.get(url, headers= headers).text\n",
    "soup=bs(webpage,'lxml')\n",
    "\n",
    "\n",
    "for i in soup.find_all('p',style=\"text-align: center;\"):\n",
    "    raw.append((i.text).strip())"
   ]
  },
  {
   "cell_type": "code",
   "execution_count": 30,
   "metadata": {},
   "outputs": [],
   "source": [
    "\n",
    "for i in raw:\n",
    "    if i == '' or i =='Report Image':\n",
    "        pass\n",
    "    else:\n",
    "        data.append(i)"
   ]
  },
  {
   "cell_type": "code",
   "execution_count": 31,
   "metadata": {},
   "outputs": [],
   "source": [
    "raw=[]\n",
    "url=\"http://www.classywish.com/angry-status/\" ## sad\n",
    "webpage=requests.get(url, headers= headers).text\n",
    "soup=bs(webpage,'lxml')\n",
    "\n",
    "\n",
    "for i in soup.find_all('li'):\n",
    "    raw.append((i.text).strip())"
   ]
  },
  {
   "cell_type": "code",
   "execution_count": 32,
   "metadata": {},
   "outputs": [],
   "source": [
    "\n",
    "for i in raw:\n",
    "    if len(i)<20:\n",
    "        pass\n",
    "    else:\n",
    "        data.append(i)"
   ]
  },
  {
   "cell_type": "code",
   "execution_count": 33,
   "metadata": {},
   "outputs": [
    {
     "data": {
      "text/plain": [
       "696"
      ]
     },
     "execution_count": 33,
     "metadata": {},
     "output_type": "execute_result"
    }
   ],
   "source": [
    "len(data)"
   ]
  },
  {
   "cell_type": "code",
   "execution_count": 34,
   "metadata": {},
   "outputs": [],
   "source": [
    "value=[]\n",
    "for _ in (data):\n",
    "    value.append('angry')"
   ]
  },
  {
   "cell_type": "code",
   "execution_count": 35,
   "metadata": {},
   "outputs": [],
   "source": [
    "angry = pd.DataFrame()\n",
    "angry['content'] = data\n",
    "angry['sentiment'] = value"
   ]
  },
  {
   "cell_type": "code",
   "execution_count": 36,
   "metadata": {},
   "outputs": [
    {
     "data": {
      "text/html": [
       "<div>\n",
       "<style scoped>\n",
       "    .dataframe tbody tr th:only-of-type {\n",
       "        vertical-align: middle;\n",
       "    }\n",
       "\n",
       "    .dataframe tbody tr th {\n",
       "        vertical-align: top;\n",
       "    }\n",
       "\n",
       "    .dataframe thead th {\n",
       "        text-align: right;\n",
       "    }\n",
       "</style>\n",
       "<table border=\"1\" class=\"dataframe\">\n",
       "  <thead>\n",
       "    <tr style=\"text-align: right;\">\n",
       "      <th></th>\n",
       "      <th>content</th>\n",
       "      <th>sentiment</th>\n",
       "    </tr>\n",
       "  </thead>\n",
       "  <tbody>\n",
       "    <tr>\n",
       "      <th>0</th>\n",
       "      <td>Sometimes I’m not angry, I’m hurt and there’s ...</td>\n",
       "      <td>angry</td>\n",
       "    </tr>\n",
       "    <tr>\n",
       "      <th>1</th>\n",
       "      <td>Not available for busy people☺</td>\n",
       "      <td>angry</td>\n",
       "    </tr>\n",
       "    <tr>\n",
       "      <th>2</th>\n",
       "      <td>I do not exist to impress the world. I exist t...</td>\n",
       "      <td>angry</td>\n",
       "    </tr>\n",
       "    <tr>\n",
       "      <th>3</th>\n",
       "      <td>Everything is getting expensive except some pe...</td>\n",
       "      <td>angry</td>\n",
       "    </tr>\n",
       "    <tr>\n",
       "      <th>4</th>\n",
       "      <td>My phone screen is brighter than my future 🙁</td>\n",
       "      <td>angry</td>\n",
       "    </tr>\n",
       "  </tbody>\n",
       "</table>\n",
       "</div>"
      ],
      "text/plain": [
       "                                             content sentiment\n",
       "0  Sometimes I’m not angry, I’m hurt and there’s ...     angry\n",
       "1                     Not available for busy people☺     angry\n",
       "2  I do not exist to impress the world. I exist t...     angry\n",
       "3  Everything is getting expensive except some pe...     angry\n",
       "4       My phone screen is brighter than my future 🙁     angry"
      ]
     },
     "execution_count": 36,
     "metadata": {},
     "output_type": "execute_result"
    }
   ],
   "source": [
    "angry.head()"
   ]
  },
  {
   "cell_type": "code",
   "execution_count": 37,
   "metadata": {},
   "outputs": [
    {
     "data": {
      "text/plain": [
       "(696, 2)"
      ]
     },
     "execution_count": 37,
     "metadata": {},
     "output_type": "execute_result"
    }
   ],
   "source": [
    "angry.shape"
   ]
  },
  {
   "cell_type": "code",
   "execution_count": 38,
   "metadata": {},
   "outputs": [],
   "source": [
    "angry.to_csv('angry.csv',index=False)"
   ]
  },
  {
   "cell_type": "code",
   "execution_count": null,
   "metadata": {},
   "outputs": [],
   "source": []
  }
 ],
 "metadata": {
  "kernelspec": {
   "display_name": "Python 3",
   "language": "python",
   "name": "python3"
  },
  "language_info": {
   "codemirror_mode": {
    "name": "ipython",
    "version": 3
   },
   "file_extension": ".py",
   "mimetype": "text/x-python",
   "name": "python",
   "nbconvert_exporter": "python",
   "pygments_lexer": "ipython3",
   "version": "3.7.3"
  }
 },
 "nbformat": 4,
 "nbformat_minor": 2
}
