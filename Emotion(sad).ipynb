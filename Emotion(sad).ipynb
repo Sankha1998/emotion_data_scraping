{
 "cells": [
  {
   "cell_type": "code",
   "execution_count": 267,
   "metadata": {},
   "outputs": [],
   "source": [
    "from  bs4 import BeautifulSoup as bs\n",
    "from io import StringIO\n",
    "import requests\n",
    "import re\n",
    "import pandas as pd\n",
    "headers = {'User-Agent': 'Mozilla/5.0 (Windows NT 6.1; WOW64) AppleWebKit/537.36 (KHTML, like Gecko) Chrome/56.0.2924.76 Safari/537.36'}"
   ]
  },
  {
   "cell_type": "code",
   "execution_count": 268,
   "metadata": {},
   "outputs": [],
   "source": [
    "url=\"https://123statuslines.com/sad-status/\" ## sad\n",
    "webpage=requests.get(url, headers= headers).text\n",
    "soup=bs(webpage,'lxml')"
   ]
  },
  {
   "cell_type": "code",
   "execution_count": 269,
   "metadata": {},
   "outputs": [],
   "source": [
    "data=[]\n",
    "for i in soup.find_all('ul',class_=\"statusList\"):\n",
    "    for j in i.find_all('li'):\n",
    "        data.append(j.text)"
   ]
  },
  {
   "cell_type": "code",
   "execution_count": 270,
   "metadata": {},
   "outputs": [],
   "source": [
    "url=\"https://123statuslines.com/sad-love-status-in-english/\" ## sad\n",
    "webpage=requests.get(url, headers= headers).text\n",
    "soup=bs(webpage,'lxml')"
   ]
  },
  {
   "cell_type": "code",
   "execution_count": 271,
   "metadata": {},
   "outputs": [],
   "source": [
    "for i in soup.find_all('ul',class_=\"statusList\"):\n",
    "    for j in i.find_all('li'):\n",
    "        data.append(j.text)"
   ]
  },
  {
   "cell_type": "code",
   "execution_count": 273,
   "metadata": {},
   "outputs": [],
   "source": [
    "url=\"https://statusqueen.com/sad\" ## sad\n",
    "webpage=requests.get(url, headers= headers).text\n",
    "soup=bs(webpage,'lxml')"
   ]
  },
  {
   "cell_type": "code",
   "execution_count": 274,
   "metadata": {},
   "outputs": [],
   "source": [
    "for i in soup.find_all('p', class_='card-description'):\n",
    "    data.append(i.text)"
   ]
  },
  {
   "cell_type": "code",
   "execution_count": 275,
   "metadata": {},
   "outputs": [],
   "source": [
    "url=\"https://statusqueen.com/sad/2\" ## sad\n",
    "webpage=requests.get(url, headers= headers).text\n",
    "soup=bs(webpage,'lxml')"
   ]
  },
  {
   "cell_type": "code",
   "execution_count": 276,
   "metadata": {},
   "outputs": [],
   "source": [
    "for i in soup.find_all('p', class_='card-description'):\n",
    "    data.append(i.text)"
   ]
  },
  {
   "cell_type": "code",
   "execution_count": 277,
   "metadata": {},
   "outputs": [],
   "source": [
    "url=\"https://statusqueen.com/sad/3\" ## sad\n",
    "webpage=requests.get(url, headers= headers).text\n",
    "soup=bs(webpage,'lxml')"
   ]
  },
  {
   "cell_type": "code",
   "execution_count": 278,
   "metadata": {},
   "outputs": [],
   "source": [
    "for i in soup.find_all('p', class_='card-description'):\n",
    "    data.append(i.text)"
   ]
  },
  {
   "cell_type": "code",
   "execution_count": 279,
   "metadata": {},
   "outputs": [
    {
     "data": {
      "text/plain": [
       "168"
      ]
     },
     "execution_count": 279,
     "metadata": {},
     "output_type": "execute_result"
    }
   ],
   "source": [
    "len(data)"
   ]
  },
  {
   "cell_type": "code",
   "execution_count": 280,
   "metadata": {},
   "outputs": [],
   "source": [
    "url=\"https://statusqueen.com/breakup\" ## sad\n",
    "webpage=requests.get(url, headers= headers).text\n",
    "soup=bs(webpage,'lxml')"
   ]
  },
  {
   "cell_type": "code",
   "execution_count": 281,
   "metadata": {},
   "outputs": [],
   "source": [
    "for i in soup.find_all('p', class_='card-description'):\n",
    "    data.append(i.text)"
   ]
  },
  {
   "cell_type": "code",
   "execution_count": 282,
   "metadata": {},
   "outputs": [],
   "source": [
    "url=\"https://statusqueen.com/sorry\" ## sad\n",
    "webpage=requests.get(url, headers= headers).text\n",
    "soup=bs(webpage,'lxml')"
   ]
  },
  {
   "cell_type": "code",
   "execution_count": 283,
   "metadata": {},
   "outputs": [],
   "source": [
    "for i in soup.find_all('p', class_='card-description'):\n",
    "    data.append(i.text)"
   ]
  },
  {
   "cell_type": "code",
   "execution_count": 284,
   "metadata": {},
   "outputs": [],
   "source": [
    "url=\"https://statusqueen.com/miss-you\" ## sad\n",
    "webpage=requests.get(url, headers= headers).text\n",
    "soup=bs(webpage,'lxml')"
   ]
  },
  {
   "cell_type": "code",
   "execution_count": 285,
   "metadata": {},
   "outputs": [],
   "source": [
    "for i in soup.find_all('p', class_='card-description'):\n",
    "    data.append(i.text)"
   ]
  },
  {
   "cell_type": "code",
   "execution_count": 286,
   "metadata": {},
   "outputs": [],
   "source": [
    "url=\"https://statusqueen.com/miss-you/1\" ## sad\n",
    "webpage=requests.get(url, headers= headers).text\n",
    "soup=bs(webpage,'lxml')"
   ]
  },
  {
   "cell_type": "code",
   "execution_count": 287,
   "metadata": {},
   "outputs": [],
   "source": [
    "for i in soup.find_all('p', class_='card-description'):\n",
    "    data.append(i.text)"
   ]
  },
  {
   "cell_type": "code",
   "execution_count": 288,
   "metadata": {},
   "outputs": [],
   "source": [
    "url=\"https://statusqueen.com/pain\" ## sad\n",
    "webpage=requests.get(url, headers= headers).text\n",
    "soup=bs(webpage,'lxml')"
   ]
  },
  {
   "cell_type": "code",
   "execution_count": 289,
   "metadata": {},
   "outputs": [],
   "source": [
    "for i in soup.find_all('p', class_='card-description'):\n",
    "    data.append(i.text)"
   ]
  },
  {
   "cell_type": "code",
   "execution_count": 290,
   "metadata": {},
   "outputs": [
    {
     "data": {
      "text/plain": [
       "293"
      ]
     },
     "execution_count": 290,
     "metadata": {},
     "output_type": "execute_result"
    }
   ],
   "source": [
    "len(data)"
   ]
  },
  {
   "cell_type": "code",
   "execution_count": 291,
   "metadata": {},
   "outputs": [],
   "source": [
    "url=\"https://statusqueen.com/hurt\" ## sad\n",
    "webpage=requests.get(url, headers= headers).text\n",
    "soup=bs(webpage,'lxml')"
   ]
  },
  {
   "cell_type": "code",
   "execution_count": 292,
   "metadata": {},
   "outputs": [],
   "source": [
    "for i in soup.find_all('p', class_='card-description'):\n",
    "    data.append(i.text)"
   ]
  },
  {
   "cell_type": "code",
   "execution_count": 293,
   "metadata": {},
   "outputs": [],
   "source": [
    "url=\"https://statusqueen.com/hurt/1\" ## sad\n",
    "webpage=requests.get(url, headers= headers).text\n",
    "soup=bs(webpage,'lxml')"
   ]
  },
  {
   "cell_type": "code",
   "execution_count": 294,
   "metadata": {},
   "outputs": [],
   "source": [
    "for i in soup.find_all('p', class_='card-description'):\n",
    "    data.append(i.text)"
   ]
  },
  {
   "cell_type": "code",
   "execution_count": 295,
   "metadata": {},
   "outputs": [],
   "source": [
    "url=\"https://statusqueen.com/hurt/1\" ## sad\n",
    "webpage=requests.get(url, headers= headers).text\n",
    "soup=bs(webpage,'lxml')"
   ]
  },
  {
   "cell_type": "code",
   "execution_count": 296,
   "metadata": {},
   "outputs": [],
   "source": [
    "url=\"https://statusqueen.com/emotional\" ## sad\n",
    "webpage=requests.get(url, headers= headers).text\n",
    "soup=bs(webpage,'lxml')"
   ]
  },
  {
   "cell_type": "code",
   "execution_count": 297,
   "metadata": {},
   "outputs": [],
   "source": [
    "for i in soup.find_all('p', class_='card-description'):\n",
    "    data.append(i.text)"
   ]
  },
  {
   "cell_type": "code",
   "execution_count": 298,
   "metadata": {},
   "outputs": [],
   "source": [
    "url=\"https://statusqueen.com/alone\" ## sad\n",
    "webpage=requests.get(url, headers= headers).text\n",
    "soup=bs(webpage,'lxml')"
   ]
  },
  {
   "cell_type": "code",
   "execution_count": 299,
   "metadata": {},
   "outputs": [],
   "source": [
    "for i in soup.find_all('p', class_='card-description'):\n",
    "    data.append(i.text)"
   ]
  },
  {
   "cell_type": "code",
   "execution_count": 300,
   "metadata": {},
   "outputs": [],
   "source": [
    "url=\"https://statusqueen.com/alone/1\" ## sad\n",
    "webpage=requests.get(url, headers= headers).text\n",
    "soup=bs(webpage,'lxml')"
   ]
  },
  {
   "cell_type": "code",
   "execution_count": 301,
   "metadata": {},
   "outputs": [],
   "source": [
    "for i in soup.find_all('p', class_='card-description'):\n",
    "    data.append(i.text)"
   ]
  },
  {
   "cell_type": "code",
   "execution_count": 302,
   "metadata": {},
   "outputs": [],
   "source": [
    "url=\"https://statusqueen.com/cheat\" ## sad\n",
    "webpage=requests.get(url, headers= headers).text\n",
    "soup=bs(webpage,'lxml')"
   ]
  },
  {
   "cell_type": "code",
   "execution_count": 303,
   "metadata": {},
   "outputs": [],
   "source": [
    "for i in soup.find_all('p', class_='card-description'):\n",
    "    data.append(i.text)"
   ]
  },
  {
   "cell_type": "code",
   "execution_count": 304,
   "metadata": {},
   "outputs": [
    {
     "data": {
      "text/plain": [
       "468"
      ]
     },
     "execution_count": 304,
     "metadata": {},
     "output_type": "execute_result"
    }
   ],
   "source": [
    "len(data)"
   ]
  },
  {
   "cell_type": "code",
   "execution_count": null,
   "metadata": {},
   "outputs": [],
   "source": []
  },
  {
   "cell_type": "code",
   "execution_count": 305,
   "metadata": {},
   "outputs": [],
   "source": [
    "url=\"https://www.hindijokes.biz/popular-sad-status-in-english.html\" ## sad\n",
    "webpage=requests.get(url, headers= headers).text\n",
    "soup=bs(webpage,'lxml')"
   ]
  },
  {
   "cell_type": "code",
   "execution_count": 306,
   "metadata": {},
   "outputs": [],
   "source": [
    "for i in soup.find_all('p',class_=\"hg hh iw hi b hj hk hl hm hn ho hp hq hr hs ht hu hv hw hx hy cg df\"):\n",
    "    data.append(i.text)"
   ]
  },
  {
   "cell_type": "code",
   "execution_count": 307,
   "metadata": {},
   "outputs": [],
   "source": [
    "url=\"https://www.ienglishstatus.com/sad-whatsapp-status/\" ## sad\n",
    "webpage=requests.get(url, headers= headers).text\n",
    "soup=bs(webpage,'lxml')"
   ]
  },
  {
   "cell_type": "code",
   "execution_count": 308,
   "metadata": {},
   "outputs": [],
   "source": [
    "raw=[]\n",
    "for i in soup.find_all('p'):\n",
    "    raw.append((i.text).strip())"
   ]
  },
  {
   "cell_type": "code",
   "execution_count": 309,
   "metadata": {},
   "outputs": [],
   "source": [
    "new_raw=[]\n",
    "for i in raw:\n",
    "    if i.split(' ')[0]=='Read':\n",
    "        break\n",
    "    else:\n",
    "        new_raw.append(i)"
   ]
  },
  {
   "cell_type": "code",
   "execution_count": 310,
   "metadata": {},
   "outputs": [],
   "source": [
    "new_raw.remove('')"
   ]
  },
  {
   "cell_type": "code",
   "execution_count": 311,
   "metadata": {},
   "outputs": [],
   "source": [
    "s=new_raw[0]"
   ]
  },
  {
   "cell_type": "code",
   "execution_count": 312,
   "metadata": {},
   "outputs": [],
   "source": [
    "import re\n",
    "def clean(text):\n",
    "    \n",
    "    clean = re.compile(r'\\d+')\n",
    "    s = re.sub(clean, '',text)\n",
    "    return s.strip(') ')"
   ]
  },
  {
   "cell_type": "code",
   "execution_count": 313,
   "metadata": {},
   "outputs": [],
   "source": [
    "raw=[]\n",
    "for i in new_raw:\n",
    "    raw.append(clean(i))"
   ]
  },
  {
   "cell_type": "code",
   "execution_count": 314,
   "metadata": {},
   "outputs": [],
   "source": [
    "for i in raw:\n",
    "    data.append(raw)"
   ]
  },
  {
   "cell_type": "code",
   "execution_count": 315,
   "metadata": {},
   "outputs": [],
   "source": [
    "url=\"https://123statuslines.com/emotional-status/\" ## sad\n",
    "webpage=requests.get(url, headers= headers).text\n",
    "soup=bs(webpage,'lxml')"
   ]
  },
  {
   "cell_type": "code",
   "execution_count": 316,
   "metadata": {},
   "outputs": [],
   "source": [
    "for i in soup.find_all('ul',class_=\"statusList\"):\n",
    "    for j in i.find_all('li'):\n",
    "        data.append(j.text)"
   ]
  },
  {
   "cell_type": "code",
   "execution_count": 317,
   "metadata": {},
   "outputs": [],
   "source": [
    "url=\"https://statusqueen.com/cry\" ## sad\n",
    "webpage=requests.get(url, headers= headers).text\n",
    "soup=bs(webpage,'lxml')\n",
    "\n",
    "for i in soup.find_all('p', class_='card-description'):\n",
    "    data.append(i.text)"
   ]
  },
  {
   "cell_type": "code",
   "execution_count": 318,
   "metadata": {},
   "outputs": [],
   "source": [
    "value=[]\n",
    "for _ in (data):\n",
    "    value.append('sad')\n"
   ]
  },
  {
   "cell_type": "code",
   "execution_count": 319,
   "metadata": {},
   "outputs": [
    {
     "data": {
      "text/plain": [
       "635"
      ]
     },
     "execution_count": 319,
     "metadata": {},
     "output_type": "execute_result"
    }
   ],
   "source": [
    "len(data)"
   ]
  },
  {
   "cell_type": "code",
   "execution_count": 320,
   "metadata": {},
   "outputs": [
    {
     "data": {
      "text/plain": [
       "635"
      ]
     },
     "execution_count": 320,
     "metadata": {},
     "output_type": "execute_result"
    }
   ],
   "source": [
    "len(value)"
   ]
  },
  {
   "cell_type": "code",
   "execution_count": 321,
   "metadata": {},
   "outputs": [],
   "source": [
    "sadness = pd.DataFrame()\n",
    "sadness['content'] = data\n",
    "sadness['sentiment'] = value"
   ]
  },
  {
   "cell_type": "code",
   "execution_count": 322,
   "metadata": {},
   "outputs": [
    {
     "data": {
      "text/html": [
       "<div>\n",
       "<style scoped>\n",
       "    .dataframe tbody tr th:only-of-type {\n",
       "        vertical-align: middle;\n",
       "    }\n",
       "\n",
       "    .dataframe tbody tr th {\n",
       "        vertical-align: top;\n",
       "    }\n",
       "\n",
       "    .dataframe thead th {\n",
       "        text-align: right;\n",
       "    }\n",
       "</style>\n",
       "<table border=\"1\" class=\"dataframe\">\n",
       "  <thead>\n",
       "    <tr style=\"text-align: right;\">\n",
       "      <th></th>\n",
       "      <th>content</th>\n",
       "      <th>sentiment</th>\n",
       "    </tr>\n",
       "  </thead>\n",
       "  <tbody>\n",
       "    <tr>\n",
       "      <th>0</th>\n",
       "      <td>Never hurt people who love you a lot, because ...</td>\n",
       "      <td>sad</td>\n",
       "    </tr>\n",
       "    <tr>\n",
       "      <th>1</th>\n",
       "      <td>Don’t expect me to tell you what you did wrong...</td>\n",
       "      <td>sad</td>\n",
       "    </tr>\n",
       "    <tr>\n",
       "      <th>2</th>\n",
       "      <td>I preferred walking away than fighting for you...</td>\n",
       "      <td>sad</td>\n",
       "    </tr>\n",
       "    <tr>\n",
       "      <th>3</th>\n",
       "      <td>Moving forward in life isn’t the hard part, it...</td>\n",
       "      <td>sad</td>\n",
       "    </tr>\n",
       "    <tr>\n",
       "      <th>4</th>\n",
       "      <td>Never cry for anyone in your life, because tho...</td>\n",
       "      <td>sad</td>\n",
       "    </tr>\n",
       "  </tbody>\n",
       "</table>\n",
       "</div>"
      ],
      "text/plain": [
       "                                             content sentiment\n",
       "0  Never hurt people who love you a lot, because ...       sad\n",
       "1  Don’t expect me to tell you what you did wrong...       sad\n",
       "2  I preferred walking away than fighting for you...       sad\n",
       "3  Moving forward in life isn’t the hard part, it...       sad\n",
       "4  Never cry for anyone in your life, because tho...       sad"
      ]
     },
     "execution_count": 322,
     "metadata": {},
     "output_type": "execute_result"
    }
   ],
   "source": [
    "sadness.head()"
   ]
  },
  {
   "cell_type": "code",
   "execution_count": 323,
   "metadata": {},
   "outputs": [],
   "source": [
    "sadness.to_csv('sadnessdata.csv',index=False)"
   ]
  },
  {
   "cell_type": "code",
   "execution_count": null,
   "metadata": {},
   "outputs": [],
   "source": []
  }
 ],
 "metadata": {
  "kernelspec": {
   "display_name": "Python 3",
   "language": "python",
   "name": "python3"
  },
  "language_info": {
   "codemirror_mode": {
    "name": "ipython",
    "version": 3
   },
   "file_extension": ".py",
   "mimetype": "text/x-python",
   "name": "python",
   "nbconvert_exporter": "python",
   "pygments_lexer": "ipython3",
   "version": "3.7.3"
  }
 },
 "nbformat": 4,
 "nbformat_minor": 2
}
