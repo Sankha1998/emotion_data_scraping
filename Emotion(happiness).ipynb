{
 "cells": [
  {
   "cell_type": "code",
   "execution_count": 92,
   "metadata": {},
   "outputs": [],
   "source": [
    "from  bs4 import BeautifulSoup as bs\n",
    "from io import StringIO\n",
    "import requests\n",
    "import re\n",
    "import pandas as pd\n",
    "headers = {'User-Agent': 'Mozilla/5.0 (Windows NT 6.1; WOW64) AppleWebKit/537.36 (KHTML, like Gecko) Chrome/56.0.2924.76 Safari/537.36'}"
   ]
  },
  {
   "cell_type": "code",
   "execution_count": 93,
   "metadata": {},
   "outputs": [],
   "source": [
    "url=\"https://123statuslines.com/funny-status/\" ## \n",
    "webpage=requests.get(url, headers= headers).text\n",
    "soup=bs(webpage,'lxml')"
   ]
  },
  {
   "cell_type": "code",
   "execution_count": 94,
   "metadata": {},
   "outputs": [],
   "source": [
    "data=[]\n",
    "for i in soup.find_all('ul',class_=\"statusList\"):\n",
    "    for j in i.find_all('li'):\n",
    "        data.append(j.text)"
   ]
  },
  {
   "cell_type": "code",
   "execution_count": 95,
   "metadata": {},
   "outputs": [],
   "source": [
    "url=\"https://123statuslines.com/funny-status/2/\" ## s\n",
    "webpage=requests.get(url, headers= headers).text\n",
    "soup=bs(webpage,'lxml')\n",
    "\n",
    "for i in soup.find_all('ul',class_=\"statusList\"):\n",
    "    for j in i.find_all('li'):\n",
    "        data.append(j.text)"
   ]
  },
  {
   "cell_type": "code",
   "execution_count": 96,
   "metadata": {},
   "outputs": [],
   "source": [
    "url=\"https://123statuslines.com/funny-status/3/\" ## s\n",
    "webpage=requests.get(url, headers= headers).text\n",
    "soup=bs(webpage,'lxml')\n",
    "for i in soup.find_all('ul',class_=\"statusList\"):\n",
    "    for j in i.find_all('li'):\n",
    "        data.append(j.text)"
   ]
  },
  {
   "cell_type": "code",
   "execution_count": 97,
   "metadata": {},
   "outputs": [],
   "source": [
    "url=\"https://123statuslines.com/funny-status/4/\" ## \n",
    "webpage=requests.get(url, headers= headers).text\n",
    "soup=bs(webpage,'lxml')\n",
    "for i in soup.find_all('ul',class_=\"statusList\"):\n",
    "    for j in i.find_all('li'):\n",
    "        data.append(j.text)"
   ]
  },
  {
   "cell_type": "code",
   "execution_count": 98,
   "metadata": {},
   "outputs": [],
   "source": [
    "url=\"https://123statuslines.com/funny-status/5/\" ## s\n",
    "webpage=requests.get(url, headers= headers).text\n",
    "soup=bs(webpage,'lxml')\n",
    "\n",
    "\n",
    "for i in soup.find_all('ul',class_=\"statusList\"):\n",
    "    for j in i.find_all('li'):\n",
    "        data.append(j.text)"
   ]
  },
  {
   "cell_type": "code",
   "execution_count": 99,
   "metadata": {},
   "outputs": [],
   "source": [
    "url=\"https://123statuslines.com/funny-status/6/\" ## \n",
    "webpage=requests.get(url, headers= headers).text\n",
    "soup=bs(webpage,'lxml')\n",
    "\n",
    "\n",
    "for i in soup.find_all('ul',class_=\"statusList\"):\n",
    "    for j in i.find_all('li'):\n",
    "        data.append(j.text)"
   ]
  },
  {
   "cell_type": "code",
   "execution_count": 100,
   "metadata": {},
   "outputs": [],
   "source": [
    "url=\"https://123statuslines.com/funny-status/7/\" ## \n",
    "webpage=requests.get(url, headers= headers).text\n",
    "soup=bs(webpage,'lxml')\n",
    "\n",
    "\n",
    "for i in soup.find_all('ul',class_=\"statusList\"):\n",
    "    for j in i.find_all('li'):\n",
    "        data.append(j.text)"
   ]
  },
  {
   "cell_type": "code",
   "execution_count": 101,
   "metadata": {},
   "outputs": [
    {
     "data": {
      "text/plain": [
       "110"
      ]
     },
     "execution_count": 101,
     "metadata": {},
     "output_type": "execute_result"
    }
   ],
   "source": [
    "len(data)"
   ]
  },
  {
   "cell_type": "code",
   "execution_count": 102,
   "metadata": {},
   "outputs": [],
   "source": [
    "url=\"https://statusqueen.com/happiness\" ## \n",
    "webpage=requests.get(url, headers= headers).text\n",
    "soup=bs(webpage,'lxml')\n",
    "    \n",
    "for i in soup.find_all('p', class_='card-description'):\n",
    "    data.append(i.text)"
   ]
  },
  {
   "cell_type": "code",
   "execution_count": 103,
   "metadata": {},
   "outputs": [],
   "source": [
    "url=\"https://statusqueen.com/happiness/2\" ## \n",
    "webpage=requests.get(url, headers= headers).text\n",
    "soup=bs(webpage,'lxml')\n",
    "    \n",
    "for i in soup.find_all('p', class_='card-description'):\n",
    "    data.append(i.text)"
   ]
  },
  {
   "cell_type": "code",
   "execution_count": 104,
   "metadata": {},
   "outputs": [],
   "source": [
    "url=\"https://statusqueen.com/happiness/3\" ## \n",
    "webpage=requests.get(url, headers= headers).text\n",
    "soup=bs(webpage,'lxml')\n",
    "    \n",
    "for i in soup.find_all('p', class_='card-description'):\n",
    "    data.append(i.text)"
   ]
  },
  {
   "cell_type": "code",
   "execution_count": 105,
   "metadata": {},
   "outputs": [
    {
     "data": {
      "text/plain": [
       "218"
      ]
     },
     "execution_count": 105,
     "metadata": {},
     "output_type": "execute_result"
    }
   ],
   "source": [
    "len(data)"
   ]
  },
  {
   "cell_type": "code",
   "execution_count": 106,
   "metadata": {},
   "outputs": [],
   "source": [
    "url=\"https://statusqueen.com/naughty\" ## \n",
    "webpage=requests.get(url, headers= headers).text\n",
    "soup=bs(webpage,'lxml')\n",
    "    \n",
    "for i in soup.find_all('p', class_='card-description'):\n",
    "    data.append(i.text)"
   ]
  },
  {
   "cell_type": "code",
   "execution_count": 107,
   "metadata": {},
   "outputs": [
    {
     "data": {
      "text/plain": [
       "226"
      ]
     },
     "execution_count": 107,
     "metadata": {},
     "output_type": "execute_result"
    }
   ],
   "source": [
    "len(data)"
   ]
  },
  {
   "cell_type": "code",
   "execution_count": 108,
   "metadata": {},
   "outputs": [],
   "source": [
    "url=\"https://statussayings.com/happiness-quotes\" ## sad\n",
    "webpage=requests.get(url, headers= headers).text\n",
    "soup=bs(webpage,'lxml')\n",
    "    \n",
    "for i in soup.find_all('p',class_=\"sayings\"):\n",
    "    data.append((i.text).strip())"
   ]
  },
  {
   "cell_type": "code",
   "execution_count": 109,
   "metadata": {},
   "outputs": [
    {
     "data": {
      "text/plain": [
       "346"
      ]
     },
     "execution_count": 109,
     "metadata": {},
     "output_type": "execute_result"
    }
   ],
   "source": [
    "len(data)"
   ]
  },
  {
   "cell_type": "code",
   "execution_count": 110,
   "metadata": {},
   "outputs": [],
   "source": [
    "l=[]"
   ]
  },
  {
   "cell_type": "code",
   "execution_count": 111,
   "metadata": {},
   "outputs": [],
   "source": [
    "url=\"https://quotesstatus.co/best-quotes-status-about-happiness/\" ## sad\n",
    "webpage=requests.get(url, headers= headers).text\n",
    "soup=bs(webpage,'lxml')\n",
    "    \n",
    "for i in soup.find_all('p'):\n",
    "    l.append(i.text)\n"
   ]
  },
  {
   "cell_type": "code",
   "execution_count": 112,
   "metadata": {},
   "outputs": [],
   "source": [
    "l.remove(l[0])"
   ]
  },
  {
   "cell_type": "code",
   "execution_count": 113,
   "metadata": {},
   "outputs": [],
   "source": [
    "l.remove(l[0])"
   ]
  },
  {
   "cell_type": "code",
   "execution_count": 114,
   "metadata": {},
   "outputs": [],
   "source": [
    "l.remove(l[0])"
   ]
  },
  {
   "cell_type": "code",
   "execution_count": 115,
   "metadata": {},
   "outputs": [],
   "source": [
    "raw=[]\n",
    "for i in l:\n",
    "    if i == '':\n",
    "        pass\n",
    "    elif i == 'I hope you enjoy our “Happiness and Success status” and like it. Don’t Forget shearing with your Whatsapp, Facebook, and Instagram Friends and family.':\n",
    "        break\n",
    "    else:\n",
    "        raw.append(i)"
   ]
  },
  {
   "cell_type": "code",
   "execution_count": 116,
   "metadata": {},
   "outputs": [],
   "source": [
    "\n",
    "import re\n",
    "def clean(text):\n",
    "    \n",
    "    clean = re.compile(r'\\d+')\n",
    "    s = re.sub(clean, '',text)\n",
    "    return s.strip('.) ')\n",
    "\n",
    "\n",
    "new_raw=[]\n",
    "for i in raw:\n",
    "    new_raw.append(clean(i))\n",
    "\n",
    "\n",
    "\n",
    "for i in new_raw:\n",
    "    data.append(clean(i))"
   ]
  },
  {
   "cell_type": "code",
   "execution_count": 117,
   "metadata": {},
   "outputs": [
    {
     "data": {
      "text/plain": [
       "402"
      ]
     },
     "execution_count": 117,
     "metadata": {},
     "output_type": "execute_result"
    }
   ],
   "source": [
    "len(data)"
   ]
  },
  {
   "cell_type": "code",
   "execution_count": 118,
   "metadata": {},
   "outputs": [],
   "source": [
    "url=\"https://statusqueen.com/love\" ## \n",
    "webpage=requests.get(url, headers= headers).text\n",
    "soup=bs(webpage,'lxml')\n",
    "    \n",
    "for i in soup.find_all('p', class_='card-description'):\n",
    "    data.append(i.text)"
   ]
  },
  {
   "cell_type": "code",
   "execution_count": 119,
   "metadata": {},
   "outputs": [
    {
     "data": {
      "text/plain": [
       "438"
      ]
     },
     "execution_count": 119,
     "metadata": {},
     "output_type": "execute_result"
    }
   ],
   "source": [
    "len(data)"
   ]
  },
  {
   "cell_type": "code",
   "execution_count": 120,
   "metadata": {},
   "outputs": [],
   "source": [
    "url=\"https://statusqueen.com/love/2\" ## \n",
    "webpage=requests.get(url, headers= headers).text\n",
    "soup=bs(webpage,'lxml')\n",
    "    \n",
    "for i in soup.find_all('p', class_='card-description'):\n",
    "    data.append(i.text)"
   ]
  },
  {
   "cell_type": "code",
   "execution_count": 121,
   "metadata": {},
   "outputs": [],
   "source": [
    "url=\"https://statusqueen.com/love/3\" ## \n",
    "webpage=requests.get(url, headers= headers).text\n",
    "soup=bs(webpage,'lxml')\n",
    "    \n",
    "for i in soup.find_all('p', class_='card-description'):\n",
    "    data.append(i.text)"
   ]
  },
  {
   "cell_type": "code",
   "execution_count": 122,
   "metadata": {},
   "outputs": [],
   "source": [
    "url=\"https://statusqueen.com/love/4\" ## \n",
    "webpage=requests.get(url, headers= headers).text\n",
    "soup=bs(webpage,'lxml')\n",
    "    \n",
    "for i in soup.find_all('p', class_='card-description'):\n",
    "    data.append(i.text)"
   ]
  },
  {
   "cell_type": "code",
   "execution_count": 123,
   "metadata": {},
   "outputs": [],
   "source": [
    "url=\"https://statusqueen.com/love/5\" ## \n",
    "webpage=requests.get(url, headers= headers).text\n",
    "soup=bs(webpage,'lxml')\n",
    "    \n",
    "for i in soup.find_all('p', class_='card-description'):\n",
    "    data.append(i.text)"
   ]
  },
  {
   "cell_type": "code",
   "execution_count": 124,
   "metadata": {},
   "outputs": [],
   "source": [
    "url=\"https://statusqueen.com/love/6\" ## \n",
    "webpage=requests.get(url, headers= headers).text\n",
    "soup=bs(webpage,'lxml')\n",
    "    \n",
    "for i in soup.find_all('p', class_='card-description'):\n",
    "    data.append(i.text)"
   ]
  },
  {
   "cell_type": "code",
   "execution_count": 125,
   "metadata": {},
   "outputs": [],
   "source": [
    "url=\"https://statusqueen.com/love/7\" ## \n",
    "webpage=requests.get(url, headers= headers).text\n",
    "soup=bs(webpage,'lxml')\n",
    "    \n",
    "for i in soup.find_all('p', class_='card-description'):\n",
    "    data.append(i.text)"
   ]
  },
  {
   "cell_type": "code",
   "execution_count": 126,
   "metadata": {},
   "outputs": [],
   "source": [
    "url=\"https://statusqueen.com/love/8\" ## \n",
    "webpage=requests.get(url, headers= headers).text\n",
    "soup=bs(webpage,'lxml')\n",
    "    \n",
    "for i in soup.find_all('p', class_='card-description'):\n",
    "    data.append(i.text)"
   ]
  },
  {
   "cell_type": "code",
   "execution_count": 127,
   "metadata": {},
   "outputs": [],
   "source": [
    "url=\"https://statusqueen.com/love/9\" ## \n",
    "webpage=requests.get(url, headers= headers).text\n",
    "soup=bs(webpage,'lxml')\n",
    "    \n",
    "for i in soup.find_all('p', class_='card-description'):\n",
    "    data.append(i.text)"
   ]
  },
  {
   "cell_type": "code",
   "execution_count": 128,
   "metadata": {},
   "outputs": [
    {
     "data": {
      "text/plain": [
       "708"
      ]
     },
     "execution_count": 128,
     "metadata": {},
     "output_type": "execute_result"
    }
   ],
   "source": [
    "len(data)"
   ]
  },
  {
   "cell_type": "code",
   "execution_count": 129,
   "metadata": {},
   "outputs": [],
   "source": [
    "value=[]\n",
    "for _ in (data):\n",
    "    value.append('happy')"
   ]
  },
  {
   "cell_type": "code",
   "execution_count": 130,
   "metadata": {},
   "outputs": [],
   "source": [
    "happy = pd.DataFrame()\n",
    "happy['content'] = data\n",
    "happy['sentiment'] = value"
   ]
  },
  {
   "cell_type": "code",
   "execution_count": 131,
   "metadata": {},
   "outputs": [
    {
     "data": {
      "text/html": [
       "<div>\n",
       "<style scoped>\n",
       "    .dataframe tbody tr th:only-of-type {\n",
       "        vertical-align: middle;\n",
       "    }\n",
       "\n",
       "    .dataframe tbody tr th {\n",
       "        vertical-align: top;\n",
       "    }\n",
       "\n",
       "    .dataframe thead th {\n",
       "        text-align: right;\n",
       "    }\n",
       "</style>\n",
       "<table border=\"1\" class=\"dataframe\">\n",
       "  <thead>\n",
       "    <tr style=\"text-align: right;\">\n",
       "      <th></th>\n",
       "      <th>content</th>\n",
       "      <th>sentiment</th>\n",
       "    </tr>\n",
       "  </thead>\n",
       "  <tbody>\n",
       "    <tr>\n",
       "      <th>0</th>\n",
       "      <td>Wants to know how the hell I can remember word...</td>\n",
       "      <td>happy</td>\n",
       "    </tr>\n",
       "    <tr>\n",
       "      <th>1</th>\n",
       "      <td>Love is a long sweet dream &amp; marriage is an al...</td>\n",
       "      <td>happy</td>\n",
       "    </tr>\n",
       "    <tr>\n",
       "      <th>2</th>\n",
       "      <td>The world could be amazing when you are slight...</td>\n",
       "      <td>happy</td>\n",
       "    </tr>\n",
       "    <tr>\n",
       "      <th>3</th>\n",
       "      <td>My secret talent is getting tired without doin...</td>\n",
       "      <td>happy</td>\n",
       "    </tr>\n",
       "    <tr>\n",
       "      <th>4</th>\n",
       "      <td>Khatarnaak Whatsapp Status Ever… Can\\’t talk, ...</td>\n",
       "      <td>happy</td>\n",
       "    </tr>\n",
       "  </tbody>\n",
       "</table>\n",
       "</div>"
      ],
      "text/plain": [
       "                                             content sentiment\n",
       "0  Wants to know how the hell I can remember word...     happy\n",
       "1  Love is a long sweet dream & marriage is an al...     happy\n",
       "2  The world could be amazing when you are slight...     happy\n",
       "3  My secret talent is getting tired without doin...     happy\n",
       "4  Khatarnaak Whatsapp Status Ever… Can\\’t talk, ...     happy"
      ]
     },
     "execution_count": 131,
     "metadata": {},
     "output_type": "execute_result"
    }
   ],
   "source": [
    "happy.head()"
   ]
  },
  {
   "cell_type": "code",
   "execution_count": 132,
   "metadata": {},
   "outputs": [
    {
     "data": {
      "text/plain": [
       "(708, 2)"
      ]
     },
     "execution_count": 132,
     "metadata": {},
     "output_type": "execute_result"
    }
   ],
   "source": [
    "happy.shape"
   ]
  },
  {
   "cell_type": "code",
   "execution_count": null,
   "metadata": {},
   "outputs": [],
   "source": []
  }
 ],
 "metadata": {
  "kernelspec": {
   "display_name": "Python 3",
   "language": "python",
   "name": "python3"
  },
  "language_info": {
   "codemirror_mode": {
    "name": "ipython",
    "version": 3
   },
   "file_extension": ".py",
   "mimetype": "text/x-python",
   "name": "python",
   "nbconvert_exporter": "python",
   "pygments_lexer": "ipython3",
   "version": "3.7.3"
  }
 },
 "nbformat": 4,
 "nbformat_minor": 2
}
